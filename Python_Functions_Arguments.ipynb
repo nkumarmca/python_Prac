{
  "nbformat": 4,
  "nbformat_minor": 0,
  "metadata": {
    "colab": {
      "provenance": [],
      "authorship_tag": "ABX9TyN1OLHhwCOUqXmfvWjZrMPR",
      "include_colab_link": true
    },
    "kernelspec": {
      "name": "python3",
      "display_name": "Python 3"
    },
    "language_info": {
      "name": "python"
    }
  },
  "cells": [
    {
      "cell_type": "markdown",
      "metadata": {
        "id": "view-in-github",
        "colab_type": "text"
      },
      "source": [
        "<a href=\"https://colab.research.google.com/github/nkumarmca/python_Prac/blob/main/Python_Functions_Arguments.ipynb\" target=\"_parent\"><img src=\"https://colab.research.google.com/assets/colab-badge.svg\" alt=\"Open In Colab\"/></a>"
      ]
    },
    {
      "cell_type": "markdown",
      "source": [
        "**Python Functions**"
      ],
      "metadata": {
        "id": "11LRC7GRuA7i"
      }
    },
    {
      "cell_type": "code",
      "execution_count": 1,
      "metadata": {
        "id": "1lRaf2UBt-8s"
      },
      "outputs": [],
      "source": [
        "def myfun():\n",
        "  print(\"Printing from myfun\")"
      ]
    },
    {
      "cell_type": "code",
      "source": [
        "myfun()"
      ],
      "metadata": {
        "colab": {
          "base_uri": "https://localhost:8080/"
        },
        "id": "AL8o5xVquPCR",
        "outputId": "41428601-8479-4978-e6ae-483e084cd509"
      },
      "execution_count": 2,
      "outputs": [
        {
          "output_type": "stream",
          "name": "stdout",
          "text": [
            "Printing from myfun\n"
          ]
        }
      ]
    },
    {
      "cell_type": "code",
      "source": [
        "def sum(a,b):\n",
        "  return a+b\n",
        "\n",
        "\n",
        "print(sum(2,3))\n"
      ],
      "metadata": {
        "colab": {
          "base_uri": "https://localhost:8080/"
        },
        "id": "gL37XOahuTFj",
        "outputId": "07dc33a5-42ea-447a-a6cf-cb90123af0d2"
      },
      "execution_count": 3,
      "outputs": [
        {
          "output_type": "stream",
          "name": "stdout",
          "text": [
            "5\n"
          ]
        }
      ]
    },
    {
      "cell_type": "code",
      "source": [
        "def my_fun(name,place):\n",
        "  print(f'hi {name} !, Are you from {place} ?')"
      ],
      "metadata": {
        "id": "O7o-hzJEzb__"
      },
      "execution_count": 6,
      "outputs": []
    },
    {
      "cell_type": "code",
      "source": [
        "my_fun('Ramu','Kolkata')\n"
      ],
      "metadata": {
        "colab": {
          "base_uri": "https://localhost:8080/"
        },
        "id": "D_RkKZQrzvJf",
        "outputId": "83ecabec-419c-46ff-970c-f21d85d91480"
      },
      "execution_count": 8,
      "outputs": [
        {
          "output_type": "stream",
          "name": "stdout",
          "text": [
            "hi Ramu !, Are you from Kolkata ?\n"
          ]
        }
      ]
    },
    {
      "cell_type": "markdown",
      "source": [
        "In the above example, we have passed arguments (name,place). But, by chance we may send (place,name). To avoid this confusion we may use below format of calling."
      ],
      "metadata": {
        "id": "bXbmoP3lz8m2"
      }
    },
    {
      "cell_type": "code",
      "source": [
        "my_fun('Vizag', 'Ravi')\n",
        "print(\"*********************\")\n",
        "my_fun(place='Vizag', name='Ravi')"
      ],
      "metadata": {
        "colab": {
          "base_uri": "https://localhost:8080/"
        },
        "id": "4qz52-u70Psc",
        "outputId": "43ce77e5-73ce-4990-bb66-d27bace8b478"
      },
      "execution_count": 12,
      "outputs": [
        {
          "output_type": "stream",
          "name": "stdout",
          "text": [
            "hi Vizag !, Are you from Ravi ?\n",
            "*********************\n",
            "hi Ravi !, Are you from Vizag ?\n"
          ]
        }
      ]
    },
    {
      "cell_type": "markdown",
      "source": [
        "**Demonstrating default argument using A=Pi r**2**"
      ],
      "metadata": {
        "id": "vZGg6yAa_l60"
      }
    },
    {
      "cell_type": "code",
      "source": [
        "def Cir_area(r,pi=3.14):\n",
        "  return(pi*(r**2))\n",
        "\n",
        "Cir_area(5)"
      ],
      "metadata": {
        "colab": {
          "base_uri": "https://localhost:8080/"
        },
        "id": "JuJfrG1rAlie",
        "outputId": "eedacfff-2654-4327-e0ed-bac2315038fc"
      },
      "execution_count": 15,
      "outputs": [
        {
          "output_type": "execute_result",
          "data": {
            "text/plain": [
              "78.5"
            ]
          },
          "metadata": {},
          "execution_count": 15
        }
      ]
    },
    {
      "cell_type": "code",
      "source": [
        "#Demonstrating Default values using student details where name and rno will not change every time\n",
        "def stud_details(marks1,marks2,rno=101,name='narasimharaju'):\n",
        "  total=marks1+marks2\n",
        "  print(\"Student Details are : \\n\")\n",
        "  print(f' RNo: {rno}\\n Name: {name}\\n Marks1: {marks1}\\n Marks2: {marks2}\\n Total: {total}')\n",
        "\n",
        "stud_details(80,85)"
      ],
      "metadata": {
        "colab": {
          "base_uri": "https://localhost:8080/"
        },
        "id": "QCuz4y6UB-dG",
        "outputId": "ed96d615-df6b-4145-b79b-018fa3bb2687"
      },
      "execution_count": 24,
      "outputs": [
        {
          "output_type": "stream",
          "name": "stdout",
          "text": [
            "Student Details are : \n",
            "\n",
            " RNo: 101\n",
            " Name: narasimharaju\n",
            " Marks1: 80\n",
            " Marks2: 85\n",
            " Total: 165\n"
          ]
        }
      ]
    },
    {
      "cell_type": "code",
      "source": [
        "stud_details(rno=102,name='Rambabu',marks1=65,marks2=77)"
      ],
      "metadata": {
        "colab": {
          "base_uri": "https://localhost:8080/"
        },
        "id": "0FVk8FUSFYaO",
        "outputId": "4ec09910-8449-4b9c-a474-aebf4e29e0ad"
      },
      "execution_count": 25,
      "outputs": [
        {
          "output_type": "stream",
          "name": "stdout",
          "text": [
            "Student Details are : \n",
            "\n",
            " RNo: 102\n",
            " Name: Rambabu\n",
            " Marks1: 65\n",
            " Marks2: 77\n",
            " Total: 142\n"
          ]
        }
      ]
    },
    {
      "cell_type": "markdown",
      "source": [
        "**Demonstrating Arbitrary Arguments**\n",
        "\n",
        "**Arbitrary arguments means, we may not know how many values to be passed**"
      ],
      "metadata": {
        "id": "nSETOFTkFxt4"
      }
    },
    {
      "cell_type": "code",
      "source": [
        "#Demonstrating Arbitrary arguments\n",
        "def add_numbers(*nums):\n",
        "  result=0\n",
        "  count=0\n",
        "  for i in nums:\n",
        "    result=result+i\n",
        "    count+=1\n",
        "  print(f\"Addition of {count} values is : {result}\")\n"
      ],
      "metadata": {
        "id": "ra6aXvTlGGwF"
      },
      "execution_count": 31,
      "outputs": []
    },
    {
      "cell_type": "code",
      "source": [
        "add_numbers(2,3,4)\n",
        "add_numbers(5,8)"
      ],
      "metadata": {
        "colab": {
          "base_uri": "https://localhost:8080/"
        },
        "id": "O_6144aUGxCs",
        "outputId": "fc18ad27-908a-4cd3-ee89-c1e08acf2193"
      },
      "execution_count": 32,
      "outputs": [
        {
          "output_type": "stream",
          "name": "stdout",
          "text": [
            "Addition of 3 values is : 9\n",
            "Addition of 2 values is : 13\n"
          ]
        }
      ]
    },
    {
      "cell_type": "code",
      "source": [
        "#Create a function to find the total bill which inculdes 10% of the Actual bill as tip\n",
        "def Total_bill(bill,tip=0.10):\n",
        "  total_bill=bill+(bill*tip)\n",
        "  return total_bill"
      ],
      "metadata": {
        "id": "xB-PPIV2HTlk"
      },
      "execution_count": 35,
      "outputs": []
    },
    {
      "cell_type": "code",
      "source": [
        "#Here I am passing only bill value.\n",
        "bill1=Total_bill(2000)\n",
        "print(f\"Bill with default tip {bill1}\")\n",
        "\n",
        "#Here I am passing bill and tip also.\n",
        "bill2=Total_bill(bill=3000,tip=0.20)\n",
        "print(f'Bill with 20% tip is {bill2}')\n"
      ],
      "metadata": {
        "colab": {
          "base_uri": "https://localhost:8080/"
        },
        "id": "DKeNsuy2Hx6y",
        "outputId": "2cc9a3b6-0009-44cd-cb2a-25af8763133e"
      },
      "execution_count": 37,
      "outputs": [
        {
          "output_type": "stream",
          "name": "stdout",
          "text": [
            "Bill with default tip 2200.0\n",
            "Bill with 20% tip is 3600.0\n"
          ]
        }
      ]
    }
  ]
}