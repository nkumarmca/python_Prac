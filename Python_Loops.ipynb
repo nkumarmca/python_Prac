{
  "nbformat": 4,
  "nbformat_minor": 0,
  "metadata": {
    "colab": {
      "provenance": [],
      "authorship_tag": "ABX9TyMFXik9ABXTkJYPweYCzlNz",
      "include_colab_link": true
    },
    "kernelspec": {
      "name": "python3",
      "display_name": "Python 3"
    },
    "language_info": {
      "name": "python"
    }
  },
  "cells": [
    {
      "cell_type": "markdown",
      "metadata": {
        "id": "view-in-github",
        "colab_type": "text"
      },
      "source": [
        "<a href=\"https://colab.research.google.com/github/nkumarmca/python_Prac/blob/main/Python_Loops.ipynb\" target=\"_parent\"><img src=\"https://colab.research.google.com/assets/colab-badge.svg\" alt=\"Open In Colab\"/></a>"
      ]
    },
    {
      "cell_type": "markdown",
      "source": [
        "**While loop example**"
      ],
      "metadata": {
        "id": "QKz5mxaAhv4l"
      }
    },
    {
      "cell_type": "code",
      "execution_count": 7,
      "metadata": {
        "colab": {
          "base_uri": "https://localhost:8080/"
        },
        "id": "DcBqkdtihpyi",
        "outputId": "9084b7af-48f8-4873-8ff3-7b4c4b7ada1f"
      },
      "outputs": [
        {
          "output_type": "stream",
          "name": "stdout",
          "text": [
            "1 square is : 1\n",
            "3 square is : 9\n",
            "5 square is : 25\n",
            "7 square is : 49\n",
            "9 square is : 81\n",
            "11 square is : 121\n",
            "13 square is : 169\n",
            "15 square is : 225\n",
            "17 square is : 289\n",
            "19 square is : 361\n",
            "Execution Ended\n"
          ]
        }
      ],
      "source": [
        "# Demonstrating while loop for printing squares of odd numbers from 1 to 20\n",
        "# else part is not mandatory\n",
        "num=1\n",
        "while(num<=20):\n",
        "  print(f\"{num} square is :\",num**2)\n",
        "  num=num+2\n",
        "else:\n",
        "  print(\"Execution Ended\")"
      ]
    },
    {
      "cell_type": "markdown",
      "source": [
        "**Write program to print fibbonocci series, capture value from user to print how many fibbonocci numbers required**"
      ],
      "metadata": {
        "id": "P4rP0vqyjIps"
      }
    },
    {
      "cell_type": "code",
      "source": [
        "# This is test program"
      ],
      "metadata": {
        "id": "0eCsZ4pgjhOM"
      },
      "execution_count": null,
      "outputs": []
    },
    {
      "cell_type": "markdown",
      "source": [
        "**For Loop**"
      ],
      "metadata": {
        "id": "3V_UiUFPj_Lb"
      }
    },
    {
      "cell_type": "code",
      "source": [
        "# Demonstrating For loop for printing squares of odd numbers from 1 to 20\n",
        "# iteration starts form 1 to n-1 times.\n",
        "num=1\n",
        "for num in range(1,6):\n",
        "  print(f\"{num} square is :\",num**2)\n",
        ""
      ],
      "metadata": {
        "colab": {
          "base_uri": "https://localhost:8080/"
        },
        "id": "1hHcDknmjidZ",
        "outputId": "6c3d35a1-6e00-4cfb-dd6e-d002ee601674"
      },
      "execution_count": 13,
      "outputs": [
        {
          "output_type": "stream",
          "name": "stdout",
          "text": [
            "1 square is : 1\n",
            "2 square is : 4\n",
            "3 square is : 9\n",
            "4 square is : 16\n",
            "5 square is : 25\n"
          ]
        }
      ]
    },
    {
      "cell_type": "markdown",
      "source": [
        "**In the above for loop, we cannot change the increment of num as by default num will be increased by 1. If we want to do custom increment, we need to use below syntax**"
      ],
      "metadata": {
        "id": "1ZKo4s20lTbg"
      }
    },
    {
      "cell_type": "code",
      "source": [
        "# Demonstrating how to do custom increment in for loop\n",
        "# 3rd value in range() is tells that, how much we need to increase for each iteration.\n",
        "# range() syntax: range(starting, ending, increment)\n",
        "#else part is not mandatory\n",
        "num=1\n",
        "for num in range(1,21,2):\n",
        "  print(f\"{num} square is :\",num**2)\n",
        "else:\n",
        "  print(\"\\n\\n Execution Ended\")"
      ],
      "metadata": {
        "colab": {
          "base_uri": "https://localhost:8080/"
        },
        "id": "OdEU3KL9ln5c",
        "outputId": "48d363da-59b9-4d63-b15a-42acc263608a"
      },
      "execution_count": 18,
      "outputs": [
        {
          "output_type": "stream",
          "name": "stdout",
          "text": [
            "1 square is : 1\n",
            "3 square is : 9\n",
            "5 square is : 25\n",
            "7 square is : 49\n",
            "9 square is : 81\n",
            "11 square is : 121\n",
            "13 square is : 169\n",
            "15 square is : 225\n",
            "17 square is : 289\n",
            "19 square is : 361\n",
            "\n",
            "\n",
            " Execution Ended\n"
          ]
        }
      ]
    },
    {
      "cell_type": "markdown",
      "source": [
        "**Loop Control Statements**\n",
        "\n",
        "These control statements break, control, pass can modify the way of iteration of the loops."
      ],
      "metadata": {
        "id": "iHjolO1Cqq1-"
      }
    },
    {
      "cell_type": "code",
      "source": [
        "#Demonstrating continue, if i want to print 1 to 10 and if the number is 5, I dont want to print\n",
        "for i in range(1,10):\n",
        "  if(i==5):\n",
        "    continue\n",
        "  print(\"i =\", i)\n",
        "\n",
        ""
      ],
      "metadata": {
        "colab": {
          "base_uri": "https://localhost:8080/"
        },
        "id": "InaP7PkQqw0L",
        "outputId": "fba249ac-385c-42e7-de4a-de2c3159b779"
      },
      "execution_count": 23,
      "outputs": [
        {
          "output_type": "stream",
          "name": "stdout",
          "text": [
            "i = 1\n",
            "i = 2\n",
            "i = 3\n",
            "i = 4\n",
            "i = 6\n",
            "i = 7\n",
            "i = 8\n",
            "i = 9\n"
          ]
        }
      ]
    },
    {
      "cell_type": "code",
      "source": [
        "#Demonstrating break, if i want to print 1 to 10 and if the number is 5, I dont want to print\n",
        "for i in range(1,10):\n",
        "  if(i==5):\n",
        "    break\n",
        "  print(\"i =\", i)"
      ],
      "metadata": {
        "colab": {
          "base_uri": "https://localhost:8080/"
        },
        "id": "5sq0yZmYsyeV",
        "outputId": "19619b2a-1b8b-4ad5-d8b0-d4795d6dc911"
      },
      "execution_count": 25,
      "outputs": [
        {
          "output_type": "stream",
          "name": "stdout",
          "text": [
            "i = 1\n",
            "i = 2\n",
            "i = 3\n",
            "i = 4\n"
          ]
        }
      ]
    },
    {
      "cell_type": "code",
      "source": [
        "# Demonstrating pass\n",
        "# If we want any loop without any statement in any change just we need to use pass\n",
        "for i in range(1,5):\n",
        "  pass\n",
        "else:\n",
        "  print(\"Executed empty for loop\")"
      ],
      "metadata": {
        "colab": {
          "base_uri": "https://localhost:8080/"
        },
        "id": "k1IeSo2us-5X",
        "outputId": "84af4eb8-37c4-4dac-ab87-78889a822368"
      },
      "execution_count": 26,
      "outputs": [
        {
          "output_type": "stream",
          "name": "stdout",
          "text": [
            "Executed empty for loop\n"
          ]
        }
      ]
    }
  ]
}