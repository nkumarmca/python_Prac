{
  "nbformat": 4,
  "nbformat_minor": 0,
  "metadata": {
    "colab": {
      "provenance": [],
      "authorship_tag": "ABX9TyM7aDhFxsA/4TDWZaic+NHy",
      "include_colab_link": true
    },
    "kernelspec": {
      "name": "python3",
      "display_name": "Python 3"
    },
    "language_info": {
      "name": "python"
    }
  },
  "cells": [
    {
      "cell_type": "markdown",
      "metadata": {
        "id": "view-in-github",
        "colab_type": "text"
      },
      "source": [
        "<a href=\"https://colab.research.google.com/github/nkumarmca/python_Prac/blob/main/Switch_case%26_comments.ipynb\" target=\"_parent\"><img src=\"https://colab.research.google.com/assets/colab-badge.svg\" alt=\"Open In Colab\"/></a>"
      ]
    },
    {
      "cell_type": "code",
      "execution_count": 2,
      "metadata": {
        "colab": {
          "base_uri": "https://localhost:8080/"
        },
        "id": "JGZUhgk3aao_",
        "outputId": "66a731ea-6f6f-41eb-e9ae-e239fe0a5fae"
      },
      "outputs": [
        {
          "output_type": "stream",
          "name": "stdout",
          "text": [
            "It is inside if block\n"
          ]
        }
      ],
      "source": [
        "a=10\n",
        "if(a<100):\n",
        "  print(\"It is inside if block\")\n",
        "else:\n",
        "  print(\"It is else block\")"
      ]
    },
    {
      "cell_type": "code",
      "source": [
        "name=input(\"Enter your name :\")\n",
        "match name:\n",
        "  case 'ram':\n",
        "    print(\"hello ram\")\n",
        "  case 'balu':\n",
        "    print(\"hello balu\")\n",
        "  case anybody:\n",
        "    print(\"Hello anyone there\")"
      ],
      "metadata": {
        "colab": {
          "base_uri": "https://localhost:8080/"
        },
        "id": "59x28ScrUDJt",
        "outputId": "0ae0e5ad-b829-459e-a096-63185ac529b4"
      },
      "execution_count": 10,
      "outputs": [
        {
          "output_type": "stream",
          "name": "stdout",
          "text": [
            "Enter your name :Ramesh\n",
            "Hello anyone there\n"
          ]
        }
      ]
    },
    {
      "cell_type": "code",
      "source": [
        "a=int(input(\"Enter a value to check even or not\"))\n",
        "if(a%2==0):\n",
        "  print(f\"{a} is even number\")\n",
        "else:\n",
        "  print(f\"{a} is not even number\")"
      ],
      "metadata": {
        "colab": {
          "base_uri": "https://localhost:8080/"
        },
        "id": "oD0_WG_NaZmi",
        "outputId": "83486500-af90-402a-dd7d-8752ae3e40f0"
      },
      "execution_count": 4,
      "outputs": [
        {
          "output_type": "stream",
          "name": "stdout",
          "text": [
            "Enter a value to check even or not21\n",
            "21 is not even number\n"
          ]
        }
      ]
    },
    {
      "cell_type": "code",
      "source": [
        "m=int(input(\"Enter value between 1 to 7 :\"))\n",
        "match m:\n",
        "  case 1:\n",
        "    print(\"Sunday\")\n",
        "  case 2:\n",
        "    print(\"Monday\")\n",
        "  case 3:\n",
        "    print(\"Tuesday\")\n",
        "  case 4:\n",
        "    print(\"Wednesday\")\n",
        "  case 5:\n",
        "    print(\"Thursday\")\n",
        "  case 6:\n",
        "    print(\"Friday\")\n",
        "  case 7:\n",
        "    print(\"Saturday\")\n",
        "  case error:\n",
        "    print(\"Error: Incorrect m value\")\n",
        ""
      ],
      "metadata": {
        "colab": {
          "base_uri": "https://localhost:8080/"
        },
        "id": "JwZt3zBfck-o",
        "outputId": "42deeeb0-a2b9-4117-c426-c04d866eab5b"
      },
      "execution_count": 14,
      "outputs": [
        {
          "output_type": "stream",
          "name": "stdout",
          "text": [
            "Enter value between 1 to 7 :6\n",
            "Friday\n"
          ]
        }
      ]
    },
    {
      "cell_type": "markdown",
      "source": [
        "**Multi-line statments**\n",
        "\n",
        "```\n",
        "# This is formatted as code\n",
        "```\n",
        "\n"
      ],
      "metadata": {
        "id": "Hmx7aNI4ls8O"
      }
    },
    {
      "cell_type": "code",
      "source": [
        "msg='this is \\\n",
        "python programming \\\n",
        "class'\n",
        "print(msg)"
      ],
      "metadata": {
        "colab": {
          "base_uri": "https://localhost:8080/"
        },
        "id": "jM3AFI8nf7Z7",
        "outputId": "9212017e-90cf-439a-a05d-7a1addd4dd84"
      },
      "execution_count": 20,
      "outputs": [
        {
          "output_type": "stream",
          "name": "stdout",
          "text": [
            "this is python programming class\n"
          ]
        }
      ]
    },
    {
      "cell_type": "code",
      "source": [
        "sum=(1+2+3+\n",
        "     4+5+\n",
        "     6+7+8)\n",
        "print(sum)"
      ],
      "metadata": {
        "colab": {
          "base_uri": "https://localhost:8080/"
        },
        "id": "UQlA1sO-g82b",
        "outputId": "e1baa7c9-a822-4b25-cdba-139a557c4dcd"
      },
      "execution_count": 21,
      "outputs": [
        {
          "output_type": "stream",
          "name": "stdout",
          "text": [
            "36\n"
          ]
        }
      ]
    },
    {
      "cell_type": "code",
      "source": [
        "sum=[1+2+3+\n",
        "     4+5+\n",
        "     6+7+8]\n",
        "print(sum)"
      ],
      "metadata": {
        "colab": {
          "base_uri": "https://localhost:8080/"
        },
        "id": "XnucCUBPkHpT",
        "outputId": "d6cc87b3-4d59-4215-c2c4-725182cec377"
      },
      "execution_count": 22,
      "outputs": [
        {
          "output_type": "stream",
          "name": "stdout",
          "text": [
            "[36]\n"
          ]
        }
      ]
    },
    {
      "cell_type": "code",
      "source": [
        "sum={1+2+3+\n",
        "     4+5+\n",
        "     6+7+8}\n",
        "print(sum)"
      ],
      "metadata": {
        "colab": {
          "base_uri": "https://localhost:8080/"
        },
        "id": "HwgKNzbykLwZ",
        "outputId": "5a23c215-23ab-466e-a61c-26f1f81c43a2"
      },
      "execution_count": 23,
      "outputs": [
        {
          "output_type": "stream",
          "name": "stdout",
          "text": [
            "{36}\n"
          ]
        }
      ]
    },
    {
      "cell_type": "markdown",
      "source": [
        "**Multi-line statements in one line**"
      ],
      "metadata": {
        "id": "lC9JRxXlloQx"
      }
    },
    {
      "cell_type": "code",
      "source": [
        "a=10;b=20\n",
        "print(a+b)"
      ],
      "metadata": {
        "colab": {
          "base_uri": "https://localhost:8080/"
        },
        "id": "IqgR3nLikMMC",
        "outputId": "4877bc9f-c3a3-45c0-9040-3d63b9654b04"
      },
      "execution_count": 24,
      "outputs": [
        {
          "output_type": "stream",
          "name": "stdout",
          "text": [
            "30\n"
          ]
        }
      ]
    }
  ]
}