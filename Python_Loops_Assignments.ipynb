{
  "nbformat": 4,
  "nbformat_minor": 0,
  "metadata": {
    "colab": {
      "provenance": [],
      "authorship_tag": "ABX9TyMBypq2m6VsRmQIWnyhAYfw",
      "include_colab_link": true
    },
    "kernelspec": {
      "name": "python3",
      "display_name": "Python 3"
    },
    "language_info": {
      "name": "python"
    }
  },
  "cells": [
    {
      "cell_type": "markdown",
      "metadata": {
        "id": "view-in-github",
        "colab_type": "text"
      },
      "source": [
        "<a href=\"https://colab.research.google.com/github/nkumarmca/python_Prac/blob/main/Python_Loops_Assignments.ipynb\" target=\"_parent\"><img src=\"https://colab.research.google.com/assets/colab-badge.svg\" alt=\"Open In Colab\"/></a>"
      ]
    },
    {
      "cell_type": "markdown",
      "source": [
        "**Python Loop Assignments**"
      ],
      "metadata": {
        "id": "vER6BND1Lh_P"
      }
    },
    {
      "cell_type": "code",
      "source": [
        "#Create a list of 1 to 10\n",
        "nums=[1,2,3,4,5,6,7,8,9,10]\n",
        "#Capture number to find\n",
        "n=int(input(\"Select a number from 1 to 10 :\"))\n",
        "#declare found value as False, if it is found in loop change it to True\n",
        "found=False\n",
        "for i in nums:\n",
        "    if(i==n):\n",
        "      found=True\n",
        "      break\n",
        "print(f'{n} is found in the list :',found)\n"
      ],
      "metadata": {
        "colab": {
          "base_uri": "https://localhost:8080/"
        },
        "id": "UcL5SuUeLxHe",
        "outputId": "8cf2f445-456d-4d90-d14c-d6199f7edeae"
      },
      "execution_count": null,
      "outputs": [
        {
          "output_type": "stream",
          "name": "stdout",
          "text": [
            "Select a number from 1 to 10 :6\n",
            "6 is found in the list : True\n"
          ]
        }
      ]
    },
    {
      "cell_type": "markdown",
      "source": [],
      "metadata": {
        "id": "TJFWLSfvN8NK"
      }
    },
    {
      "cell_type": "markdown",
      "source": [
        "**Create a while loop to print the following series**\n",
        "\n",
        "\n",
        "104,96,88,....8\n",
        "\n",
        "Hint: Here we have taken a gap of 8 between the numbers."
      ],
      "metadata": {
        "id": "5wJqgDz7NWw7"
      }
    },
    {
      "cell_type": "code",
      "source": [
        "#Declare start value as 104\n",
        "#Store the desired series in a list and print the list.\n",
        "\n",
        "start=104\n",
        "nums=[]\n",
        "while(start>=8):\n",
        "  nums.append(start)\n",
        "  start-=8\n",
        "\n",
        "print(nums)"
      ],
      "metadata": {
        "colab": {
          "base_uri": "https://localhost:8080/"
        },
        "id": "QZHE05sbOoRk",
        "outputId": "6eeb1095-c759-4f2d-f793-4f382c95aecd"
      },
      "execution_count": null,
      "outputs": [
        {
          "output_type": "stream",
          "name": "stdout",
          "text": [
            "[104, 96, 88, 80, 72, 64, 56, 48, 40, 32, 24, 16, 8]\n"
          ]
        }
      ]
    },
    {
      "cell_type": "markdown",
      "source": [
        "**Take a sentence and print the each letter seperately except any two letters.**\n",
        "\n",
        "sentence = \" learn cloudyml data science program\"\n",
        "\n",
        "print letters except 'c', 'e', and white spaces."
      ],
      "metadata": {
        "id": "fEa0wSTVUZf4"
      }
    },
    {
      "cell_type": "code",
      "source": [
        "#store the sentence\n",
        "sentc='learn cloudyml data science program'\n",
        "chars=[]\n",
        "for ch in sentc:\n",
        "  if(ch!='c' and ch!='e' and ch!=' '):\n",
        "    chars.append(ch)\n",
        "print(chars)\n",
        "\n"
      ],
      "metadata": {
        "colab": {
          "base_uri": "https://localhost:8080/"
        },
        "id": "-w3OGxvdU9N9",
        "outputId": "cbb4e659-671c-4da6-ce9b-85c6e113383e"
      },
      "execution_count": null,
      "outputs": [
        {
          "output_type": "stream",
          "name": "stdout",
          "text": [
            "['l', 'a', 'r', 'n', 'l', 'o', 'u', 'd', 'y', 'm', 'l', 'd', 'a', 't', 'a', 's', 'i', 'n', 'p', 'r', 'o', 'g', 'r', 'a', 'm']\n"
          ]
        }
      ]
    },
    {
      "cell_type": "markdown",
      "source": [
        "**Write a program to find the sum of the digits of a number which taken from the user**\n",
        "\n",
        "For ex: n =213\n",
        "\n",
        "sum = 2+1+3 =6."
      ],
      "metadata": {
        "id": "D_sxrAUYW3so"
      }
    },
    {
      "cell_type": "code",
      "source": [
        "#Capture number from user\n",
        "num=int(input('Enter a number to find the sum of its digits :'))\n",
        "number=num\n",
        "sum=0\n",
        "while(num>=1):\n",
        "  n=num%10\n",
        "  # make the number floor divisible by 10\n",
        "  num=num//10\n",
        "  #num=int(num/10)\n",
        "  sum=sum+n\n",
        "\n",
        "print(f\"sum of the digits of the given number {number} is :\",sum)\n"
      ],
      "metadata": {
        "colab": {
          "base_uri": "https://localhost:8080/"
        },
        "id": "8McxwmJ6UY1t",
        "outputId": "92a855ee-38c8-4381-db34-4995a28dbd29"
      },
      "execution_count": null,
      "outputs": [
        {
          "output_type": "stream",
          "name": "stdout",
          "text": [
            "Enter a number to find the sum of its digits :555\n",
            "5 55 5\n",
            "5 5 10\n",
            "5 0 15\n",
            "sum of the digits of the given number 555 is : 15\n"
          ]
        }
      ]
    },
    {
      "cell_type": "code",
      "source": [
        "print(231%10)"
      ],
      "metadata": {
        "colab": {
          "base_uri": "https://localhost:8080/"
        },
        "id": "kkxcvsGX2bHP",
        "outputId": "a3940f5e-873a-44e5-a69c-8e6640e1994a"
      },
      "execution_count": null,
      "outputs": [
        {
          "output_type": "stream",
          "name": "stdout",
          "text": [
            "1\n"
          ]
        }
      ]
    },
    {
      "cell_type": "markdown",
      "source": [
        "**Given two lists of numbers, return all possible pairs of numbers in which the numbers from the first list is lesser than the number from second list**\n",
        "\n",
        "[1,4,3,5,7,9,2]\n",
        "\n",
        "[0,5,2,8,1]\n",
        "\n",
        "Output: [1,5],[1,2],[1,8],[4,5]...."
      ],
      "metadata": {
        "id": "JvR4JAyK6yr3"
      }
    },
    {
      "cell_type": "code",
      "source": [
        "#Declare two lists\n",
        "list1=[1,4,3,5,7,9,2]\n",
        "list2=[0,5,2,8,1]\n",
        "list3=[]\n",
        "#Compare the two lists using nested loop\n",
        "\n",
        "for i in list1:\n",
        "  for j in list2:\n",
        "    if(i<j):\n",
        "      #if the condition satisfied appending the elements to the new list\n",
        "\n",
        "      list3.append([i,j])\n",
        "\n",
        "print(list3)\n"
      ],
      "metadata": {
        "colab": {
          "base_uri": "https://localhost:8080/"
        },
        "id": "UpbawLXx7Efo",
        "outputId": "4741d509-1141-4088-9c3b-722444357b99"
      },
      "execution_count": null,
      "outputs": [
        {
          "output_type": "stream",
          "name": "stdout",
          "text": [
            "[[1, 5], [1, 2], [1, 8], [4, 5], [4, 8], [3, 5], [3, 8], [5, 8], [7, 8], [2, 5], [2, 8]]\n"
          ]
        }
      ]
    },
    {
      "cell_type": "markdown",
      "source": [
        "Declare a 3*2 matrix and multiply each number with 10's 100's and so on as per the row of the matrix. 1st row with 10, 2nd row with 100 and so on."
      ],
      "metadata": {
        "id": "ulUJ50_v-BYl"
      }
    },
    {
      "cell_type": "code",
      "source": [
        "#Declare a 3 by 2 matrix\n",
        "matri=[[1,2],\n",
        "       [3,4],\n",
        "       [4,5]]\n",
        "m=1\n",
        "res=[]\n",
        "for i in range(len(matri)):\n",
        "  m=m*10\n",
        "  for j in range(len(matri[i])):\n",
        "    matri[i][j]=matri[i][j]*m\n",
        "\n",
        "for k in matri:\n",
        "  print(k)"
      ],
      "metadata": {
        "colab": {
          "base_uri": "https://localhost:8080/"
        },
        "id": "uCNNTIss-Sj2",
        "outputId": "fbb8e88c-b2f9-4118-b803-9190e3f51163"
      },
      "execution_count": null,
      "outputs": [
        {
          "output_type": "stream",
          "name": "stdout",
          "text": [
            "[10, 20]\n",
            "[300, 400]\n",
            "[4000, 5000]\n"
          ]
        }
      ]
    },
    {
      "cell_type": "code",
      "source": [],
      "metadata": {
        "id": "9j4uMfL9-l3C"
      },
      "execution_count": null,
      "outputs": []
    },
    {
      "cell_type": "markdown",
      "source": [
        "**Print prime number between 2 to 100**"
      ],
      "metadata": {
        "id": "nVticBeFDoQX"
      }
    },
    {
      "cell_type": "code",
      "source": [
        "count=0\n",
        "for i in range(2,100):\n",
        "  for j in range(1,i+1):\n",
        "    if(i%j==0):\n",
        "      count+=1\n",
        "  if(count<=2):\n",
        "    print(i)\n"
      ],
      "metadata": {
        "colab": {
          "base_uri": "https://localhost:8080/"
        },
        "id": "IiHygPI_DvTj",
        "outputId": "624d5fd4-7c29-41b3-9b18-2f4bf40a0fd0"
      },
      "execution_count": null,
      "outputs": [
        {
          "output_type": "stream",
          "name": "stdout",
          "text": [
            "2\n",
            "3\n"
          ]
        }
      ]
    },
    {
      "cell_type": "markdown",
      "source": [
        "**First I have written code like above but unable to get the answer,because I made wrong by initialising count=0 at first. We need to make count=0 for each number. because if the number is divisible by 1 and the same number then only it is prime. so, if this condition is satisfied then count will be 2**"
      ],
      "metadata": {
        "id": "Jz9KdJCVI-68"
      }
    },
    {
      "cell_type": "code",
      "source": [
        "pr_num=[]\n",
        "for i in range(2,100):\n",
        "  count=0\n",
        "  for j in range(1,i+1):\n",
        "    if(i%j==0):\n",
        "      count=count+1\n",
        "  if(count<=2):\n",
        "    pr_num.append(i)\n",
        "\n",
        "print(\"List of prime numbers is :\\n\", pr_num)"
      ],
      "metadata": {
        "colab": {
          "base_uri": "https://localhost:8080/"
        },
        "id": "a1B0iVgxHMRI",
        "outputId": "f834bd46-685f-4b90-8def-220c959c7e24"
      },
      "execution_count": 21,
      "outputs": [
        {
          "output_type": "stream",
          "name": "stdout",
          "text": [
            "List of prime numbers is :\n",
            " [2, 3, 5, 7, 11, 13, 17, 19, 23, 29, 31, 37, 41, 43, 47, 53, 59, 61, 67, 71, 73, 79, 83, 89, 97]\n"
          ]
        }
      ]
    },
    {
      "cell_type": "markdown",
      "source": [
        "**Write a program to check whether given number is prime or not**"
      ],
      "metadata": {
        "id": "GJobesh0oCsk"
      }
    },
    {
      "cell_type": "code",
      "source": [
        "num=int(input(\"Enter a value to check prime or not :\"))\n",
        "if num>1:\n",
        "  print(f\"Given value is {num}\")\n",
        "  count=0\n",
        "  for i in range(1,num+1):\n",
        "    if num%i==0:\n",
        "      count+=1\n",
        "  if(count==2):\n",
        "    print(f'{num} is prime number')\n",
        "  else:\n",
        "    print(f'{num} is not prime number')\n",
        "else:\n",
        "  print('Please enter valid number to check')"
      ],
      "metadata": {
        "id": "Ih8g0dFpn_a0",
        "outputId": "929b31b5-9395-4f3f-ece0-5d6136e6e2b3",
        "colab": {
          "base_uri": "https://localhost:8080/"
        }
      },
      "execution_count": 27,
      "outputs": [
        {
          "output_type": "stream",
          "name": "stdout",
          "text": [
            "Enter a value to check prime or not :123\n",
            "Given value is 123\n",
            "123 is not prime number\n"
          ]
        }
      ]
    }
  ]
}