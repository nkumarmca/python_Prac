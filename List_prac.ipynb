{
  "nbformat": 4,
  "nbformat_minor": 0,
  "metadata": {
    "colab": {
      "provenance": [],
      "authorship_tag": "ABX9TyNY27t0Upjm6j3X9AELWIhZ",
      "include_colab_link": true
    },
    "kernelspec": {
      "name": "python3",
      "display_name": "Python 3"
    },
    "language_info": {
      "name": "python"
    }
  },
  "cells": [
    {
      "cell_type": "markdown",
      "metadata": {
        "id": "view-in-github",
        "colab_type": "text"
      },
      "source": [
        "<a href=\"https://colab.research.google.com/github/nkumarmca/python_Prac/blob/main/List_prac.ipynb\" target=\"_parent\"><img src=\"https://colab.research.google.com/assets/colab-badge.svg\" alt=\"Open In Colab\"/></a>"
      ]
    },
    {
      "cell_type": "code",
      "execution_count": 30,
      "metadata": {
        "colab": {
          "base_uri": "https://localhost:8080/"
        },
        "id": "kBGVPvasDAff",
        "outputId": "b32e701d-36ab-4fc2-8ff5-e24b6b080871"
      },
      "outputs": [
        {
          "output_type": "stream",
          "name": "stdout",
          "text": [
            "[1, 2, 3, 4, 5, 6]\n"
          ]
        }
      ],
      "source": [
        "list1=[1,2,3]\n",
        "list2=[4,5,6]\n",
        "list1.extend(list2)\n",
        "print(list1)"
      ]
    },
    {
      "cell_type": "code",
      "source": [
        "list1.extend([7,8,9.5,\"India\"])\n",
        "print(list1)"
      ],
      "metadata": {
        "colab": {
          "base_uri": "https://localhost:8080/"
        },
        "id": "gs_pRl2fEhzK",
        "outputId": "0bd69e01-64db-4768-d7df-d3eecd5e20d4"
      },
      "execution_count": 2,
      "outputs": [
        {
          "output_type": "stream",
          "name": "stdout",
          "text": [
            "[1, 2, 3, 4, 5, 6, 7, 8, 9.5, 'India']\n"
          ]
        }
      ]
    },
    {
      "cell_type": "code",
      "source": [
        "list3=[1,2,3,4,5,6]\n",
        "print(\"list3 values before pop\", list3)\n",
        "list3.pop()\n",
        "print(\"list3 values after pop\", list3)\n",
        "list3.pop(4)\n",
        "print(\"list3 values after pop using index\",list3)"
      ],
      "metadata": {
        "colab": {
          "base_uri": "https://localhost:8080/"
        },
        "id": "QCPVTXOZJBox",
        "outputId": "9958fb7b-e787-4efe-82b1-40d01bf2a5ad"
      },
      "execution_count": 7,
      "outputs": [
        {
          "output_type": "stream",
          "name": "stdout",
          "text": [
            "list3 values before pop [1, 2, 3, 4, 5, 6]\n",
            "list3 values after pop [1, 2, 3, 4, 5]\n",
            "list3 values after pop using index [1, 2, 3, 4]\n"
          ]
        }
      ]
    },
    {
      "cell_type": "code",
      "source": [
        "list3=[1,2,3,4,5,6]\n",
        "print(list3[1:4])"
      ],
      "metadata": {
        "colab": {
          "base_uri": "https://localhost:8080/"
        },
        "id": "euURc2HgKTwA",
        "outputId": "5a74130e-b741-4636-cb1e-c76ff77e15b4"
      },
      "execution_count": 9,
      "outputs": [
        {
          "output_type": "stream",
          "name": "stdout",
          "text": [
            "[2, 3, 4]\n"
          ]
        }
      ]
    },
    {
      "cell_type": "code",
      "source": [
        "list4=[1,1,13,4,1,6,4,3,2,5,8,9,1]\n",
        "print(\"list4 values \", list4)\n",
        "list4.reverse()\n",
        "print(\"reverse order of the list using reverse() \", list4)\n",
        "print(\"reverse order using indexing\",list4[-13:])\n",
        "list4.sort()\n",
        "print(\"Sorted elements in the list \", list4)\n",
        "list5=list4[3:10]\n",
        "print(\"list5 values before clear() \", list5)\n",
        "list5.clear()\n",
        "print(\"list5 values after clear() \", list5)\n",
        "print(\"Number of occurances of 1 in the list is \", list4.count(1))"
      ],
      "metadata": {
        "colab": {
          "base_uri": "https://localhost:8080/"
        },
        "id": "AgtAJJYfFtSt",
        "outputId": "b2bdb610-1af1-44a4-896f-273dd6745a58"
      },
      "execution_count": 24,
      "outputs": [
        {
          "output_type": "stream",
          "name": "stdout",
          "text": [
            "list4 values  [1, 1, 13, 4, 1, 6, 4, 3, 2, 5, 8, 9, 1]\n",
            "reverse order of the list using reverse()  [1, 9, 8, 5, 2, 3, 4, 6, 1, 4, 13, 1, 1]\n",
            "reverse order using indexing [1, 9, 8, 5, 2, 3, 4, 6, 1, 4, 13, 1, 1]\n",
            "Sorted elements in the list  [1, 1, 1, 1, 2, 3, 4, 4, 5, 6, 8, 9, 13]\n",
            "list5 values before clear()  [1, 2, 3, 4, 4, 5, 6]\n",
            "list5 values after clear()  []\n",
            "Number of occurances of 1 in the list is  4\n"
          ]
        }
      ]
    },
    {
      "cell_type": "code",
      "source": [
        "List=[]\n",
        "for i in range(1,11):\n",
        "  List.append(i**2)\n",
        "print(\"Squares of 1 to 10 are \",List)"
      ],
      "metadata": {
        "colab": {
          "base_uri": "https://localhost:8080/"
        },
        "id": "sTN_fETuLtBp",
        "outputId": "9342d21c-84ec-421a-e9be-90116b7ebc88"
      },
      "execution_count": 25,
      "outputs": [
        {
          "output_type": "stream",
          "name": "stdout",
          "text": [
            "Squares of 1 to 10 are  [1, 4, 9, 16, 25, 36, 49, 64, 81, 100]\n"
          ]
        }
      ]
    },
    {
      "cell_type": "code",
      "source": [
        "List=[]\n",
        "for i in range(1,11):\n",
        "  if i%2==1:\n",
        "    List.append(i**2)\n",
        "print(\"Squares of odd numbers from 1 to 10 are \",List)"
      ],
      "metadata": {
        "colab": {
          "base_uri": "https://localhost:8080/"
        },
        "id": "Lqr1qRdMFhiV",
        "outputId": "b8702386-fcb5-48c4-ef7d-aceef5a51bec"
      },
      "execution_count": 27,
      "outputs": [
        {
          "output_type": "stream",
          "name": "stdout",
          "text": [
            "Squares of odd numbers from 1 to 10 are  [1, 9, 25, 49, 81]\n"
          ]
        }
      ]
    },
    {
      "cell_type": "code",
      "source": [
        "#List Comprension\n",
        "odd_squares=[i**2 for i in range(1,11) if i%2==1 ]\n",
        "print(odd_squares)"
      ],
      "metadata": {
        "colab": {
          "base_uri": "https://localhost:8080/"
        },
        "id": "pJFsPHJMPEoh",
        "outputId": "21612ea6-cd26-4b20-e48b-902795ceca58"
      },
      "execution_count": 28,
      "outputs": [
        {
          "output_type": "stream",
          "name": "stdout",
          "text": [
            "[1, 9, 25, 49, 81]\n"
          ]
        }
      ]
    }
  ]
}